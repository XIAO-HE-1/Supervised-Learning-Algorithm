{
 "cells": [
  {
   "cell_type": "markdown",
   "metadata": {},
   "source": [
    "# Regularization\n",
    "This is a form of regression, that constrains/ shrinks the coefficient estimates towards zero. Regularization is a good technique used to reduce the error and avoid overfitting\n",
    "## Part 1: Ridge (L2) Regression\n",
    "### Basic Concept\n",
    "Ridge regression shrinks the regression coefficients by imposing a penalty on their size. The ridge regression coefficients minimized a penalized residual sum of squares.\n",
    "\n",
    "Ridge regression solves the following $\\ell_2$ penalized linear model \n",
    "\n",
    "$$\\widehat \\beta^{\\,\\text{ridge}} = \\underset{\\beta}{\\arg\\min} \\,\\, \\lVert y - X \\beta \\rVert^2 + \\lambda \\lVert \\beta \\rVert^2$$\n",
    "\n",
    "The solution can be obtained through \n",
    "\n",
    "$$\\beta = \\big(X^TX + \\lambda I\\big)^{-1} X^T y $$\n",
    "### Example\n",
    "I will use Boston Housing Data from kaggle(https://www.kaggle.com/c/boston-housing/overview). The Boston data frame has 506 rows and 16 columns. I will use \"cmedv\" as outcome, which means median value of owner-occupied homes in USD 1000's."
   ]
  },
  {
   "cell_type": "code",
   "execution_count": 28,
   "metadata": {},
   "outputs": [
    {
     "data": {
      "text/html": [
       "<div>\n",
       "<style scoped>\n",
       "    .dataframe tbody tr th:only-of-type {\n",
       "        vertical-align: middle;\n",
       "    }\n",
       "\n",
       "    .dataframe tbody tr th {\n",
       "        vertical-align: top;\n",
       "    }\n",
       "\n",
       "    .dataframe thead th {\n",
       "        text-align: right;\n",
       "    }\n",
       "</style>\n",
       "<table border=\"1\" class=\"dataframe\">\n",
       "  <thead>\n",
       "    <tr style=\"text-align: right;\">\n",
       "      <th></th>\n",
       "      <th>lon</th>\n",
       "      <th>lat</th>\n",
       "      <th>cmedv</th>\n",
       "      <th>crim</th>\n",
       "      <th>zn</th>\n",
       "      <th>indus</th>\n",
       "      <th>chas</th>\n",
       "      <th>nox</th>\n",
       "      <th>rm</th>\n",
       "      <th>age</th>\n",
       "      <th>dis</th>\n",
       "      <th>rad</th>\n",
       "      <th>tax</th>\n",
       "      <th>ptratio</th>\n",
       "      <th>b</th>\n",
       "      <th>lstat</th>\n",
       "    </tr>\n",
       "  </thead>\n",
       "  <tbody>\n",
       "    <tr>\n",
       "      <th>0</th>\n",
       "      <td>-70.955</td>\n",
       "      <td>42.2550</td>\n",
       "      <td>24.0</td>\n",
       "      <td>0.00632</td>\n",
       "      <td>18.0</td>\n",
       "      <td>2.31</td>\n",
       "      <td>0</td>\n",
       "      <td>0.538</td>\n",
       "      <td>6.575</td>\n",
       "      <td>65.2</td>\n",
       "      <td>4.0900</td>\n",
       "      <td>1</td>\n",
       "      <td>296</td>\n",
       "      <td>15.3</td>\n",
       "      <td>396.90</td>\n",
       "      <td>4.98</td>\n",
       "    </tr>\n",
       "    <tr>\n",
       "      <th>1</th>\n",
       "      <td>-70.950</td>\n",
       "      <td>42.2875</td>\n",
       "      <td>21.6</td>\n",
       "      <td>0.02731</td>\n",
       "      <td>0.0</td>\n",
       "      <td>7.07</td>\n",
       "      <td>0</td>\n",
       "      <td>0.469</td>\n",
       "      <td>6.421</td>\n",
       "      <td>78.9</td>\n",
       "      <td>4.9671</td>\n",
       "      <td>2</td>\n",
       "      <td>242</td>\n",
       "      <td>17.8</td>\n",
       "      <td>396.90</td>\n",
       "      <td>9.14</td>\n",
       "    </tr>\n",
       "    <tr>\n",
       "      <th>2</th>\n",
       "      <td>-70.936</td>\n",
       "      <td>42.2830</td>\n",
       "      <td>34.7</td>\n",
       "      <td>0.02729</td>\n",
       "      <td>0.0</td>\n",
       "      <td>7.07</td>\n",
       "      <td>0</td>\n",
       "      <td>0.469</td>\n",
       "      <td>7.185</td>\n",
       "      <td>61.1</td>\n",
       "      <td>4.9671</td>\n",
       "      <td>2</td>\n",
       "      <td>242</td>\n",
       "      <td>17.8</td>\n",
       "      <td>392.83</td>\n",
       "      <td>4.03</td>\n",
       "    </tr>\n",
       "    <tr>\n",
       "      <th>3</th>\n",
       "      <td>-70.928</td>\n",
       "      <td>42.2930</td>\n",
       "      <td>33.4</td>\n",
       "      <td>0.03237</td>\n",
       "      <td>0.0</td>\n",
       "      <td>2.18</td>\n",
       "      <td>0</td>\n",
       "      <td>0.458</td>\n",
       "      <td>6.998</td>\n",
       "      <td>45.8</td>\n",
       "      <td>6.0622</td>\n",
       "      <td>3</td>\n",
       "      <td>222</td>\n",
       "      <td>18.7</td>\n",
       "      <td>394.63</td>\n",
       "      <td>2.94</td>\n",
       "    </tr>\n",
       "    <tr>\n",
       "      <th>4</th>\n",
       "      <td>-70.922</td>\n",
       "      <td>42.2980</td>\n",
       "      <td>36.2</td>\n",
       "      <td>0.06905</td>\n",
       "      <td>0.0</td>\n",
       "      <td>2.18</td>\n",
       "      <td>0</td>\n",
       "      <td>0.458</td>\n",
       "      <td>7.147</td>\n",
       "      <td>54.2</td>\n",
       "      <td>6.0622</td>\n",
       "      <td>3</td>\n",
       "      <td>222</td>\n",
       "      <td>18.7</td>\n",
       "      <td>396.90</td>\n",
       "      <td>5.33</td>\n",
       "    </tr>\n",
       "  </tbody>\n",
       "</table>\n",
       "</div>"
      ],
      "text/plain": [
       "      lon      lat  cmedv     crim    zn  indus  chas    nox     rm   age  \\\n",
       "0 -70.955  42.2550   24.0  0.00632  18.0   2.31     0  0.538  6.575  65.2   \n",
       "1 -70.950  42.2875   21.6  0.02731   0.0   7.07     0  0.469  6.421  78.9   \n",
       "2 -70.936  42.2830   34.7  0.02729   0.0   7.07     0  0.469  7.185  61.1   \n",
       "3 -70.928  42.2930   33.4  0.03237   0.0   2.18     0  0.458  6.998  45.8   \n",
       "4 -70.922  42.2980   36.2  0.06905   0.0   2.18     0  0.458  7.147  54.2   \n",
       "\n",
       "      dis  rad  tax  ptratio       b  lstat  \n",
       "0  4.0900    1  296     15.3  396.90   4.98  \n",
       "1  4.9671    2  242     17.8  396.90   9.14  \n",
       "2  4.9671    2  242     17.8  392.83   4.03  \n",
       "3  6.0622    3  222     18.7  394.63   2.94  \n",
       "4  6.0622    3  222     18.7  396.90   5.33  "
      ]
     },
     "execution_count": 28,
     "metadata": {},
     "output_type": "execute_result"
    }
   ],
   "source": [
    "import pandas as pd\n",
    "Housing=pd.read_csv('BostonHousing2.csv')\n",
    "Y=Housing[\"cmedv\"]\n",
    "X=Housing.drop(\"cmedv\",1,inplace=False)\n",
    "Housing[:5]"
   ]
  },
  {
   "cell_type": "markdown",
   "metadata": {},
   "source": [
    "The solution of ridge regression is not invariant with respect to the scale of predictors. So first I will scale the data."
   ]
  },
  {
   "cell_type": "code",
   "execution_count": 82,
   "metadata": {},
   "outputs": [],
   "source": [
    "from sklearn.preprocessing import StandardScaler\n",
    "# initialize the Scaler\n",
    "ss=StandardScaler()\n",
    "Y_scale=ss.fit_transform(Housing[[\"cmedv\"]])\n",
    "X_scale=ss.fit_transform(Housing.drop(\"cmedv\",1,inplace=False))\n",
    "X_scale = pd.DataFrame(X_scale, index=X.index, columns=X.columns)"
   ]
  },
  {
   "cell_type": "code",
   "execution_count": 83,
   "metadata": {},
   "outputs": [],
   "source": [
    "import numpy as np\n",
    "import math\n",
    "n=100 # number of lambda\n",
    "seq=np.linspace(start=-15, stop=15, num=n)\n",
    "for i in range(100):\n",
    "    seq[i]=math.exp(seq[i])"
   ]
  },
  {
   "cell_type": "markdown",
   "metadata": {},
   "source": [
    "### Tuning parameter $\\lambda$\n",
    "I will use 5-fold cross validation to tune parameter $\\lambda$"
   ]
  },
  {
   "cell_type": "code",
   "execution_count": 117,
   "metadata": {},
   "outputs": [],
   "source": [
    "N=Housing.shape[0] # number of observations\n",
    "p=Housing.shape[1]\n",
    "#beta_ridge = np.zeros((n,p)) \n",
    "beta_ridge = np.repeat(0,p)\n",
    "df = np.repeat(0, n) # degree of freedom\n",
    "CV = list() # Minimized MSE \n",
    "\n",
    "for i in range(n):\n",
    "    MSE=list()\n",
    "    for j in range(5):\n",
    "        size=int(N/5)\n",
    "        if j<4:\n",
    "            index=np.arange(j*101,(j+1)*101)\n",
    "        else: \n",
    "            index=np.arange(j*101,N)\n",
    "        x=X_scale.iloc[ index , : ]\n",
    "        y=Y_scale[index]\n",
    "        xx=np.dot(np.transpose(x),x)\n",
    "        xy=np.dot(np.transpose(x),y)\n",
    "        inv=np.linalg.inv(xx+np.identity(xx.shape[0]) * seq[i])\n",
    "        beta_ridge= np.dot(inv,xy)\n",
    "        y_predict=np.dot(X_scale.drop(X_scale.index[index]),beta_ridge)\n",
    "        MSE.append(np.mean((y_predict.flatten()-np.delete(Y_scale, index))**2))\n",
    "    CV.append(min(MSE))"
   ]
  },
  {
   "cell_type": "code",
   "execution_count": 127,
   "metadata": {},
   "outputs": [
    {
     "data": {
      "image/png": "[encoded data removed]",
      "text/plain": [
       "<Figure size 432x288 with 1 Axes>"
      ]
     },
     "metadata": {
      "needs_background": "light"
     },
     "output_type": "display_data"
    }
   ],
   "source": [
    "import matplotlib.pyplot as plt\n",
    "plt.plot(seq[:70], CV[:70])\n",
    "plt.title(\"Minimized Mean Squared Error\")\n",
    "plt.xlabel('lambda')\n",
    "plt.ylabel('MSE')\n",
    "plt.show()"
   ]
  },
  {
   "cell_type": "code",
   "execution_count": 130,
   "metadata": {},
   "outputs": [
    {
     "data": {
      "text/plain": [
       "59.794225389991404"
      ]
     },
     "execution_count": 130,
     "metadata": {},
     "output_type": "execute_result"
    }
   ],
   "source": [
    "seq[CV.index(min(CV))]"
   ]
  },
  {
   "cell_type": "markdown",
   "metadata": {},
   "source": [
    "When $\\lambda$=60, this model fits best."
   ]
  },
  {
   "cell_type": "markdown",
   "metadata": {},
   "source": [
    "### Degree of Freedom  \n",
    "\n",
    "\\begin{aligned}\n",
    "df(\\hat f)&= \\frac{1}{\\sigma^2}\\sum_{i=1}^N Cov(\\hat {y_i},y_i) \\\\\n",
    "&= \\frac{1}{\\sigma^2} Var(y_i) Trace(X(X^TX+\\lambda I)^{-1}XX^T) \\\\\n",
    "&= \\sum_{j=1}^p \\frac{d_j^2}{d_j^2+\\lambda}\n",
    "\\end{aligned}\n"
   ]
  },
  {
   "cell_type": "code",
   "execution_count": 141,
   "metadata": {},
   "outputs": [],
   "source": [
    "def RidgeRegression(X, y):\n",
    "    beta_list = []\n",
    "    df_list = []\n",
    "    for i in range(100):\n",
    "        lam_par = seq[i]\n",
    "        xtranspose = np.transpose(X)\n",
    "        xtransx = np.dot(xtranspose, X)\n",
    "        lamidentity = np.identity(xtransx.shape[0]) * lam_par\n",
    "        matinv = np.linalg.inv(lamidentity + xtransx)\n",
    "        xtransy = np.dot(xtranspose, y)\n",
    "        beta = np.dot(matinv, xtransy)\n",
    "        _, S, _ = np.linalg.svd(X)\n",
    "        df = np.sum(np.square(S) / (np.square(S) + lam_par))\n",
    "        beta_list.append(beta)\n",
    "        df_list.append(df)\n",
    "    return beta_list, df_list\n",
    "\n",
    "def Plots(dfArray, betaArray):\n",
    "    plt.figure()\n",
    "    for i in range(0, beta_list[0].shape[0]):\n",
    "        plt.plot(dfArray, betaArray[:,i])\n",
    "        plt.scatter(dfArray, betaArray[:,i],s=8)\n",
    "    plt.xlabel(r\"df($\\lambda$)\")\n",
    "    plt.ylabel(\"Coefficients\")\n",
    "    plt.title(\"$\\beta$ Estimate with Degree of Freedom\")\n",
    "    plt.show()"
   ]
  },
  {
   "cell_type": "code",
   "execution_count": 134,
   "metadata": {},
   "outputs": [],
   "source": [
    "beta_list, df_list = RidgeRegression(X_scale, Y_scale)\n",
    "betaArray = np.asarray(beta_list)\n",
    "dfArray = np.asarray(df_list)"
   ]
  },
  {
   "cell_type": "code",
   "execution_count": 142,
   "metadata": {},
   "outputs": [
    {
     "data": {
      "image/png": "[encoded data removed]",
      "text/plain": [
       "<Figure size 432x288 with 1 Axes>"
      ]
     },
     "metadata": {
      "needs_background": "light"
     },
     "output_type": "display_data"
    }
   ],
   "source": [
    "Plots(dfArray, betaArray)"
   ]
  },
  {
   "cell_type": "markdown",
   "metadata": {},
   "source": [
    "The larger the value of $\\lambda$ (the smaller the degree of freedom), the greater the amount of shrinkage, the smaller the coefficients estimate. \n",
    "\n",
    "## Part 2: Lasso Regression\n",
    "LASSO regression solves the following $\\ell_1$ penalized linear model \n",
    "$$\\widehat \\beta^{\\,\\text{Lasso}} = \\underset{\\beta}{\\arg\\min} \\,\\, \\lVert y - X \\beta \\rVert^2 + \\lambda \\lVert \\beta \\rVert_1$$"
   ]
  }
 ],
 "metadata": {
  "kernelspec": {
   "display_name": "Python 3",
   "language": "python",
   "name": "python3"
  },
  "language_info": {
   "codemirror_mode": {
    "name": "ipython",
    "version": 3
   },
   "file_extension": ".py",
   "mimetype": "text/x-python",
   "name": "python",
   "nbconvert_exporter": "python",
   "pygments_lexer": "ipython3",
   "version": "3.7.3"
  }
 },
 "nbformat": 4,
 "nbformat_minor": 2
}
